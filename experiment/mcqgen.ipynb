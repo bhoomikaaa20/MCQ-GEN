{
 "cells": [
  {
   "cell_type": "code",
   "execution_count": 1,
   "metadata": {},
   "outputs": [],
   "source": [
    "import os\n",
    "import json\n",
    "import pandas as pd\n",
    "import traceback"
   ]
  },
  {
   "cell_type": "code",
   "execution_count": 2,
   "metadata": {},
   "outputs": [
    {
     "data": {
      "text/plain": [
       "True"
      ]
     },
     "execution_count": 2,
     "metadata": {},
     "output_type": "execute_result"
    }
   ],
   "source": [
    "from dotenv import load_dotenv\n",
    "load_dotenv()"
   ]
  },
  {
   "cell_type": "code",
   "execution_count": 3,
   "metadata": {},
   "outputs": [],
   "source": [
    "key=load_dotenv('OPENAI_API_KEY')"
   ]
  },
  {
   "cell_type": "code",
   "execution_count": 4,
   "metadata": {},
   "outputs": [
    {
     "name": "stderr",
     "output_type": "stream",
     "text": [
      "e:\\GENAI\\MCQ-GEN\\env\\Lib\\site-packages\\langchain_core\\_api\\deprecation.py:139: LangChainDeprecationWarning: The class `ChatOpenAI` was deprecated in LangChain 0.0.10 and will be removed in 0.3.0. An updated version of the class exists in the langchain-openai package and should be used instead. To use it run `pip install -U langchain-openai` and import as `from langchain_openai import ChatOpenAI`.\n",
      "  warn_deprecated(\n"
     ]
    }
   ],
   "source": [
    "from langchain.chat_models import ChatOpenAI\n",
    "client=ChatOpenAI(openai_api_key=key,model_name='gpt-4o',temperature=0.9)"
   ]
  },
  {
   "cell_type": "code",
   "execution_count": 5,
   "metadata": {},
   "outputs": [],
   "source": [
    "from langchain.llms import OpenAI\n",
    "from langchain.prompts import PromptTemplate\n",
    "from langchain.chains import LLMChain,SequentialChain\n",
    "from langchain.callbacks import get_openai_callback\n",
    "import PyPDF2"
   ]
  },
  {
   "cell_type": "code",
   "execution_count": 6,
   "metadata": {},
   "outputs": [],
   "source": [
    "RESPONSE_JSON = {\n",
    "    \"1\": {\n",
    "        \"mcq\": \"multiple choice question\",\n",
    "        \"options\": {\n",
    "            \"a\": \"choice here\",\n",
    "            \"b\": \"choice here\",\n",
    "            \"c\": \"choice here\",\n",
    "            \"d\": \"choice here\",\n",
    "        },\n",
    "        \"correct\": \"correct answer\",\n",
    "    },\n",
    "    \"2\": {\n",
    "        \"mcq\": \"multiple choice question\",\n",
    "        \"options\": {\n",
    "            \"a\": \"choice here\",\n",
    "            \"b\": \"choice here\",\n",
    "            \"c\": \"choice here\",\n",
    "            \"d\": \"choice here\",\n",
    "        },\n",
    "        \"correct\": \"correct answer\",\n",
    "    },\n",
    "    \"3\": {\n",
    "        \"mcq\": \"multiple choice question\",\n",
    "        \"options\": {\n",
    "            \"a\": \"choice here\",\n",
    "            \"b\": \"choice here\",\n",
    "            \"c\": \"choice here\",\n",
    "            \"d\": \"choice here\",\n",
    "        },\n",
    "        \"correct\": \"correct answer\",\n",
    "    },\n",
    "}"
   ]
  },
  {
   "cell_type": "code",
   "execution_count": 7,
   "metadata": {},
   "outputs": [],
   "source": [
    "TEMPLATE1=\"\"\"\n",
    "Text:{text}\n",
    "You are an expert MCQ maker. Given the above text, it is your job to \\\n",
    "create a quiz  of {number} multiple choice questions for {subject} students in {tone} tone. \n",
    "Make sure the questions are not repeated and check all the questions to be conforming the text as well.\n",
    "Make sure to format your response like  RESPONSE_JSON below  and use it as a guide. \\\n",
    "Ensure to make {number} MCQs\n",
    "### RESPONSE_JSON\n",
    "{response_json}\n",
    "\n",
    "\"\"\""
   ]
  },
  {
   "cell_type": "code",
   "execution_count": 43,
   "metadata": {},
   "outputs": [],
   "source": [
    "quiz_generation_prompt = PromptTemplate(\n",
    "    input_variables=['text', 'number', 'subject', 'tone', 'response_json'],\n",
    "    template=TEMPLATE1\n",
    ")\n"
   ]
  },
  {
   "cell_type": "code",
   "execution_count": 44,
   "metadata": {},
   "outputs": [],
   "source": [
    "chain1 = LLMChain(llm=client, prompt=quiz_generation_prompt, output_key=\"quiz\", verbose=True)"
   ]
  },
  {
   "cell_type": "code",
   "execution_count": 46,
   "metadata": {},
   "outputs": [],
   "source": [
    "TEMPLATE2 = \"\"\"\n",
    "You are an expert english grammarian and writer. Given a Multiple Choice Quiz for {subject} students.\\\n",
    "You need to evaluate the complexity of the question and give a complete analysis of the quiz. Only use at max 50 words for complexity analysis. \n",
    "if the quiz is not at per with the cognitive and analytical abilities of the students,\\\n",
    "update the quiz questions which needs to be changed and change the tone such that it perfectly fits the student abilities\n",
    "Quiz_MCQs:\n",
    "{quiz}\n",
    "\n",
    "Check from an expert English Writer of the above quiz:\n",
    "\"\"\""
   ]
  },
  {
   "cell_type": "code",
   "execution_count": 47,
   "metadata": {},
   "outputs": [],
   "source": [
    "quiz_evaluation_prompt = PromptTemplate(\n",
    "    input_variables=['quiz', 'subject'],\n",
    "    template=TEMPLATE2\n",
    ")\n"
   ]
  },
  {
   "cell_type": "code",
   "execution_count": 48,
   "metadata": {},
   "outputs": [],
   "source": [
    "chain2 = LLMChain(llm=client, prompt=quiz_evaluation_prompt, output_key='review', verbose=True)\n",
    "\n"
   ]
  },
  {
   "cell_type": "code",
   "execution_count": 49,
   "metadata": {},
   "outputs": [],
   "source": [
    "FinalChain = SequentialChain(chains=[chain1, chain2], input_variables=['text', 'number', 'subject', 'tone', 'response_json'], output_variables=['review'], verbose=True)"
   ]
  },
  {
   "cell_type": "code",
   "execution_count": 14,
   "metadata": {},
   "outputs": [],
   "source": [
    "filepath=r'E:\\GENAI\\MCQ-GEN\\paragraph.txt'"
   ]
  },
  {
   "cell_type": "code",
   "execution_count": 15,
   "metadata": {},
   "outputs": [
    {
     "data": {
      "text/plain": [
       "'E:\\\\GENAI\\\\MCQ-GEN\\\\paragraph.txt'"
      ]
     },
     "execution_count": 15,
     "metadata": {},
     "output_type": "execute_result"
    }
   ],
   "source": [
    "filepath"
   ]
  },
  {
   "cell_type": "code",
   "execution_count": 16,
   "metadata": {},
   "outputs": [],
   "source": [
    "with open(filepath,'r') as file:\n",
    "    data=file.read()"
   ]
  },
  {
   "cell_type": "code",
   "execution_count": 17,
   "metadata": {},
   "outputs": [
    {
     "data": {
      "text/plain": [
       "\"Coronavirus disease 2019 (COVID-19) is a contagious disease caused by the coronavirus SARS-CoV-2. The first known case was identified in Wuhan, China, in December 2019.[7] Most scientists believe the SARS-CoV-2 virus entered into human populations through natural zoonosis, similar to the SARS-CoV-1 and MERS-CoV outbreaks, and consistent with other pandemics in human history.[8][9] Social and environmental factors including climate change, natural ecosystem destruction and wildlife trade increased the likelihood of such zoonotic spillover.[10][11][12][13] The disease quickly spread worldwide, resulting in the COVID-19 pandemic.\\n\\nThe symptoms of COVIDâ€‘19 are variable but often include fever,[14] fatigue, cough, breathing difficulties, loss of smell, and loss of taste.[15][16][17] Symptoms may begin one to fourteen days after exposure to the virus. At least a third of people who are infected do not develop noticeable symptoms.[18][19] Of those who develop symptoms noticeable enough to be classified as patients, most (81%) develop mild to moderate symptoms (up to mild pneumonia), while 14% develop severe symptoms (dyspnea, hypoxia, or more than 50% lung involvement on imaging), and 5% develop critical symptoms (respiratory failure, shock, or multiorgan dysfunction).[20] Older people are at a higher risk of developing severe symptoms. Some complications result in death. Some people continue to experience a range of effects (long COVID) for months or years after infection, and damage to organs has been observed.[21] Multi-year studies are underway to further investigate the long-term effects of the disease.[22]\\n\\nCOVIDâ€‘19 transmission occurs when infectious particles are breathed in or come into contact with the eyes, nose, or mouth. The risk is highest when people are in close proximity, but small airborne particles containing the virus can remain suspended in the air and travel over longer distances, particularly indoors. Transmission can also occur when people touch their eyes, nose or mouth after touching surfaces or objects that have been contaminated by the virus. People remain contagious for up to 20 days and can spread the virus even if they do not develop symptoms.[23]\\n\\nTesting methods for COVID-19 to detect the virus's nucleic acid include real-time reverse transcription polymerase chain reaction (RTâ€‘PCR),[24][25] transcription-mediated amplification,[24][25][26] and reverse transcription loop-mediated isothermal amplification (RTâ€‘LAMP)[24][25] from a nasopharyngeal swab.[27]\\n\\nSeveral COVID-19 vaccines have been approved and distributed in various countries, many of which have initiated mass vaccination campaigns. Other preventive measures include physical or social distancing, quarantining, ventilation of indoor spaces, use of face masks or coverings in public, covering coughs and sneezes, hand washing, and keeping unwashed hands away from the face. While drugs have been developed to inhibit the virus, the primary treatment is still symptomatic, managing the disease through supportive care, isolation, and experimental measures.\""
      ]
     },
     "execution_count": 17,
     "metadata": {},
     "output_type": "execute_result"
    }
   ],
   "source": [
    "data"
   ]
  },
  {
   "cell_type": "code",
   "execution_count": 18,
   "metadata": {},
   "outputs": [
    {
     "data": {
      "text/plain": [
       "'{\"1\": {\"mcq\": \"multiple choice question\", \"options\": {\"a\": \"choice here\", \"b\": \"choice here\", \"c\": \"choice here\", \"d\": \"choice here\"}, \"correct\": \"correct answer\"}, \"2\": {\"mcq\": \"multiple choice question\", \"options\": {\"a\": \"choice here\", \"b\": \"choice here\", \"c\": \"choice here\", \"d\": \"choice here\"}, \"correct\": \"correct answer\"}, \"3\": {\"mcq\": \"multiple choice question\", \"options\": {\"a\": \"choice here\", \"b\": \"choice here\", \"c\": \"choice here\", \"d\": \"choice here\"}, \"correct\": \"correct answer\"}}'"
      ]
     },
     "execution_count": 18,
     "metadata": {},
     "output_type": "execute_result"
    }
   ],
   "source": [
    "json.dumps(RESPONSE_JSON)"
   ]
  },
  {
   "cell_type": "code",
   "execution_count": 52,
   "metadata": {},
   "outputs": [],
   "source": [
    "NUMBER = 5 \n",
    "SUBJECT = \"covid\"\n",
    "TONE = \"simple\"\n"
   ]
  },
  {
   "cell_type": "code",
   "execution_count": 53,
   "metadata": {},
   "outputs": [
    {
     "name": "stdout",
     "output_type": "stream",
     "text": [
      "\n",
      "\n",
      "\u001b[1m> Entering new SequentialChain chain...\u001b[0m\n",
      "\n",
      "\n",
      "\u001b[1m> Entering new LLMChain chain...\u001b[0m\n",
      "Prompt after formatting:\n",
      "\u001b[32;1m\u001b[1;3m\n",
      "Text:Sample text for generating the quiz.\n",
      "You are an expert MCQ maker. Given the above text, it is your job to create a quiz  of 5 multiple choice questions for covid students in simple tone. \n",
      "Make sure the questions are not repeated and check all the questions to be conforming the text as well.\n",
      "Make sure to format your response like  RESPONSE_JSON below  and use it as a guide. Ensure to make 5 MCQs\n",
      "### RESPONSE_JSON\n",
      "{\"1\": {\"mcq\": \"multiple choice question\", \"options\": {\"a\": \"choice here\", \"b\": \"choice here\", \"c\": \"choice here\", \"d\": \"choice here\"}, \"correct\": \"correct answer\"}, \"2\": {\"mcq\": \"multiple choice question\", \"options\": {\"a\": \"choice here\", \"b\": \"choice here\", \"c\": \"choice here\", \"d\": \"choice here\"}, \"correct\": \"correct answer\"}, \"3\": {\"mcq\": \"multiple choice question\", \"options\": {\"a\": \"choice here\", \"b\": \"choice here\", \"c\": \"choice here\", \"d\": \"choice here\"}, \"correct\": \"correct answer\"}}\n",
      "\n",
      "\u001b[0m\n",
      "\n",
      "\u001b[1m> Finished chain.\u001b[0m\n",
      "\n",
      "\n",
      "\u001b[1m> Entering new LLMChain chain...\u001b[0m\n",
      "Prompt after formatting:\n",
      "\u001b[32;1m\u001b[1;3m\n",
      "You are an expert english grammarian and writer. Given a Multiple Choice Quiz for covid students.You need to evaluate the complexity of the question and give a complete analysis of the quiz. Only use at max 50 words for complexity analysis. \n",
      "if the quiz is not at per with the cognitive and analytical abilities of the students,update the quiz questions which needs to be changed and change the tone such that it perfectly fits the student abilities\n",
      "Quiz_MCQs:\n",
      "```json\n",
      "{\n",
      "  \"1\": {\n",
      "    \"mcq\": \"What is the main purpose of the given text?\",\n",
      "    \"options\": {\n",
      "      \"a\": \"Providing information on COVID-19\",\n",
      "      \"b\": \"Generating a sample text for a quiz\",\n",
      "      \"c\": \"Explaining health guidelines\",\n",
      "      \"d\": \"Offering educational resources\"\n",
      "    },\n",
      "    \"correct\": \"b\"\n",
      "  },\n",
      "  \"2\": {\n",
      "    \"mcq\": \"Who is the intended audience for this quiz?\",\n",
      "    \"options\": {\n",
      "      \"a\": \"Teachers\",\n",
      "      \"b\": \"Parents\",\n",
      "      \"c\": \"COVID students\",\n",
      "      \"d\": \"General public\"\n",
      "    },\n",
      "    \"correct\": \"c\"\n",
      "  },\n",
      "  \"3\": {\n",
      "    \"mcq\": \"How many multiple choice questions should the quiz contain?\",\n",
      "    \"options\": {\n",
      "      \"a\": \"3\",\n",
      "      \"b\": \"4\",\n",
      "      \"c\": \"5\",\n",
      "      \"d\": \"6\"\n",
      "    },\n",
      "    \"correct\": \"c\"\n",
      "  },\n",
      "  \"4\": {\n",
      "    \"mcq\": \"What is the tone suggested for the quiz questions?\",\n",
      "    \"options\": {\n",
      "      \"a\": \"Formal\",\n",
      "      \"b\": \"Humorous\",\n",
      "      \"c\": \"Technical\",\n",
      "      \"d\": \"Simple\"\n",
      "    },\n",
      "    \"correct\": \"d\"\n",
      "  },\n",
      "  \"5\": {\n",
      "    \"mcq\": \"What should be checked to ensure quality of the quiz questions?\",\n",
      "    \"options\": {\n",
      "      \"a\": \"Repetition\",\n",
      "      \"b\": \"Conformity to the text\",\n",
      "      \"c\": \"Grammar\",\n",
      "      \"d\": \"All of the above\"\n",
      "    },\n",
      "    \"correct\": \"d\"\n",
      "  }\n",
      "}\n",
      "```\n",
      "\n",
      "Check from an expert English Writer of the above quiz:\n",
      "\u001b[0m\n",
      "\n",
      "\u001b[1m> Finished chain.\u001b[0m\n",
      "\n",
      "\u001b[1m> Finished chain.\u001b[0m\n"
     ]
    }
   ],
   "source": [
    "# How to setup Token Usage Tracking in LangChain\n",
    "with get_openai_callback() as cb:\n",
    "    response = FinalChain(\n",
    "        {\n",
    "            \"text\": data,\n",
    "            \"number\": NUMBER,\n",
    "            \"subject\": SUBJECT,\n",
    "            \"tone\": TONE,\n",
    "            \"response_json\": json.dumps(RESPONSE_JSON)\n",
    "        }\n",
    "    )"
   ]
  },
  {
   "cell_type": "code",
   "execution_count": 54,
   "metadata": {},
   "outputs": [
    {
     "name": "stdout",
     "output_type": "stream",
     "text": [
      "TotalCost:0.015965\n",
      "TotalToken:1549\n",
      "InputTokens727\n",
      "OutputTokens822\n"
     ]
    }
   ],
   "source": [
    "print(f\"TotalCost:{cb.total_cost}\")\n",
    "print(f\"TotalToken:{cb.total_tokens}\")\n",
    "print(f\"InputTokens{cb.prompt_tokens}\")\n",
    "print(f\"OutputTokens{cb.completion_tokens}\")"
   ]
  },
  {
   "cell_type": "code",
   "execution_count": 55,
   "metadata": {},
   "outputs": [
    {
     "data": {
      "text/plain": [
       "{'text': 'Sample text for generating the quiz.',\n",
       " 'number': 5,\n",
       " 'subject': 'covid',\n",
       " 'tone': 'simple',\n",
       " 'response_json': '{\"1\": {\"mcq\": \"multiple choice question\", \"options\": {\"a\": \"choice here\", \"b\": \"choice here\", \"c\": \"choice here\", \"d\": \"choice here\"}, \"correct\": \"correct answer\"}, \"2\": {\"mcq\": \"multiple choice question\", \"options\": {\"a\": \"choice here\", \"b\": \"choice here\", \"c\": \"choice here\", \"d\": \"choice here\"}, \"correct\": \"correct answer\"}, \"3\": {\"mcq\": \"multiple choice question\", \"options\": {\"a\": \"choice here\", \"b\": \"choice here\", \"c\": \"choice here\", \"d\": \"choice here\"}, \"correct\": \"correct answer\"}}',\n",
       " 'review': '**Complexity Analysis:**\\nThe quiz questions are straightforward and pertain more to quiz creation and administration than to evaluating students\\' understanding of COVID-19. The complexity seems low for students familiar with course content.\\n\\n**Updated Quiz Questions:**\\nHere is a revised quiz, aligned with the cognitive and analytical abilities of the students focusing on actual COVID-19 content:\\n\\n```json\\n{\\n  \"1\": {\\n    \"mcq\": \"What is COVID-19?\",\\n    \"options\": {\\n      \"a\": \"A type of food\",\\n      \"b\": \"A viral infection\",\\n      \"c\": \"A computer program\",\\n      \"d\": \"A book\"\\n    },\\n    \"correct\": \"b\"\\n  },\\n  \"2\": {\\n    \"mcq\": \"Which of the following is a common symptom of COVID-19?\",\\n    \"options\": {\\n      \"a\": \"Headache\",\\n      \"b\": \"Cough\",\\n      \"c\": \"Blurry vision\",\\n      \"d\": \"Toothache\"\\n    },\\n    \"correct\": \"b\"\\n  },\\n  \"3\": {\\n    \"mcq\": \"How can you protect yourself from COVID-19?\",\\n    \"options\": {\\n      \"a\": \"Washing hands frequently\",\\n      \"b\": \"Eating more sugar\",\\n      \"c\": \"Avoiding exercise\",\\n      \"d\": \"Sleeping less\"\\n    },\\n    \"correct\": \"a\"\\n  },\\n  \"4\": {\\n    \"mcq\": \"What should you do if you feel unwell with COVID-19 symptoms?\",\\n    \"options\": {\\n      \"a\": \"Ignore it and continue as normal\",\\n      \"b\": \"Take medicine without consulting a doctor\",\\n      \"c\": \"Stay at home and call a healthcare provider\",\\n      \"d\": \"Go to a crowded place\"\\n    },\\n    \"correct\": \"c\"\\n  },\\n  \"5\": {\\n    \"mcq\": \"What is a key measure to prevent the spread of COVID-19?\",\\n    \"options\": {\\n      \"a\": \"Wearing masks\",\\n      \"b\": \"Sharing personal items\",\\n      \"c\": \"Eating out frequently\",\\n      \"d\": \"Ignoring health guidelines\"\\n    },\\n    \"correct\": \"a\"\\n  }\\n}\\n```'}"
      ]
     },
     "execution_count": 55,
     "metadata": {},
     "output_type": "execute_result"
    }
   ],
   "source": [
    "response"
   ]
  },
  {
   "cell_type": "code",
   "execution_count": 56,
   "metadata": {},
   "outputs": [],
   "source": [
    "res=response.get(\"review\")"
   ]
  },
  {
   "cell_type": "code",
   "execution_count": 57,
   "metadata": {},
   "outputs": [
    {
     "name": "stdout",
     "output_type": "stream",
     "text": [
      "**Complexity Analysis:**\n",
      "The quiz questions are straightforward and pertain more to quiz creation and administration than to evaluating students' understanding of COVID-19. The complexity seems low for students familiar with course content.\n",
      "\n",
      "**Updated Quiz Questions:**\n",
      "Here is a revised quiz, aligned with the cognitive and analytical abilities of the students focusing on actual COVID-19 content:\n",
      "\n",
      "```json\n",
      "{\n",
      "  \"1\": {\n",
      "    \"mcq\": \"What is COVID-19?\",\n",
      "    \"options\": {\n",
      "      \"a\": \"A type of food\",\n",
      "      \"b\": \"A viral infection\",\n",
      "      \"c\": \"A computer program\",\n",
      "      \"d\": \"A book\"\n",
      "    },\n",
      "    \"correct\": \"b\"\n",
      "  },\n",
      "  \"2\": {\n",
      "    \"mcq\": \"Which of the following is a common symptom of COVID-19?\",\n",
      "    \"options\": {\n",
      "      \"a\": \"Headache\",\n",
      "      \"b\": \"Cough\",\n",
      "      \"c\": \"Blurry vision\",\n",
      "      \"d\": \"Toothache\"\n",
      "    },\n",
      "    \"correct\": \"b\"\n",
      "  },\n",
      "  \"3\": {\n",
      "    \"mcq\": \"How can you protect yourself from COVID-19?\",\n",
      "    \"options\": {\n",
      "      \"a\": \"Washing hands frequently\",\n",
      "      \"b\": \"Eating more sugar\",\n",
      "      \"c\": \"Avoiding exercise\",\n",
      "      \"d\": \"Sleeping less\"\n",
      "    },\n",
      "    \"correct\": \"a\"\n",
      "  },\n",
      "  \"4\": {\n",
      "    \"mcq\": \"What should you do if you feel unwell with COVID-19 symptoms?\",\n",
      "    \"options\": {\n",
      "      \"a\": \"Ignore it and continue as normal\",\n",
      "      \"b\": \"Take medicine without consulting a doctor\",\n",
      "      \"c\": \"Stay at home and call a healthcare provider\",\n",
      "      \"d\": \"Go to a crowded place\"\n",
      "    },\n",
      "    \"correct\": \"c\"\n",
      "  },\n",
      "  \"5\": {\n",
      "    \"mcq\": \"What is a key measure to prevent the spread of COVID-19?\",\n",
      "    \"options\": {\n",
      "      \"a\": \"Wearing masks\",\n",
      "      \"b\": \"Sharing personal items\",\n",
      "      \"c\": \"Eating out frequently\",\n",
      "      \"d\": \"Ignoring health guidelines\"\n",
      "    },\n",
      "    \"correct\": \"a\"\n",
      "  }\n",
      "}\n",
      "```\n"
     ]
    }
   ],
   "source": [
    "print(res)"
   ]
  },
  {
   "cell_type": "code",
   "execution_count": 62,
   "metadata": {},
   "outputs": [
    {
     "name": "stdout",
     "output_type": "stream",
     "text": [
      "Extracted JSON string: {\n",
      "  \"1\": {\n",
      "    \"mcq\": \"What is COVID-19?\",\n",
      "    \"options\": {\n",
      "      \"a\": \"A type of food\",\n",
      "      \"b\": \"A viral infection\",\n",
      "      \"c\": \"A computer program\",\n",
      "      \"d\": \"A book\"\n",
      "    },\n",
      "    \"correct\": \"b\"\n",
      "  },\n",
      "  \"2\": {\n",
      "    \"mcq\": \"Which of the following is a common symptom of COVID-19?\",\n",
      "    \"options\": {\n",
      "      \"a\": \"Headache\",\n",
      "      \"b\": \"Cough\",\n",
      "      \"c\": \"Blurry vision\",\n",
      "      \"d\": \"Toothache\"\n",
      "    },\n",
      "    \"correct\": \"b\"\n",
      "  },\n",
      "  \"3\": {\n",
      "    \"mcq\": \"How can you protect yourself from COVID-19?\",\n",
      "    \"options\": {\n",
      "      \"a\": \"Washing hands frequently\",\n",
      "      \"b\": \"Eating more sugar\",\n",
      "      \"c\": \"Avoiding exercise\",\n",
      "      \"d\": \"Sleeping less\"\n",
      "    },\n",
      "    \"correct\": \"a\"\n",
      "  },\n",
      "  \"4\": {\n",
      "    \"mcq\": \"What should you do if you feel unwell with COVID-19 symptoms?\",\n",
      "    \"options\": {\n",
      "      \"a\": \"Ignore it and continue as normal\",\n",
      "      \"b\": \"Take medicine without consulting a doctor\",\n",
      "      \"c\": \"Stay at home and call a healthcare provider\",\n",
      "      \"d\": \"Go to a crowded place\"\n",
      "    },\n",
      "    \"correct\": \"c\"\n",
      "  },\n",
      "  \"5\": {\n",
      "    \"mcq\": \"What is a key measure to prevent the spread of COVID-19?\",\n",
      "    \"options\": {\n",
      "      \"a\": \"Wearing masks\",\n",
      "      \"b\": \"Sharing personal items\",\n",
      "      \"c\": \"Eating out frequently\",\n",
      "      \"d\": \"Ignoring health guidelines\"\n",
      "    },\n",
      "    \"correct\": \"a\"\n",
      "  }\n",
      "}\n",
      "Parsed JSON: {'1': {'mcq': 'What is COVID-19?', 'options': {'a': 'A type of food', 'b': 'A viral infection', 'c': 'A computer program', 'd': 'A book'}, 'correct': 'b'}, '2': {'mcq': 'Which of the following is a common symptom of COVID-19?', 'options': {'a': 'Headache', 'b': 'Cough', 'c': 'Blurry vision', 'd': 'Toothache'}, 'correct': 'b'}, '3': {'mcq': 'How can you protect yourself from COVID-19?', 'options': {'a': 'Washing hands frequently', 'b': 'Eating more sugar', 'c': 'Avoiding exercise', 'd': 'Sleeping less'}, 'correct': 'a'}, '4': {'mcq': 'What should you do if you feel unwell with COVID-19 symptoms?', 'options': {'a': 'Ignore it and continue as normal', 'b': 'Take medicine without consulting a doctor', 'c': 'Stay at home and call a healthcare provider', 'd': 'Go to a crowded place'}, 'correct': 'c'}, '5': {'mcq': 'What is a key measure to prevent the spread of COVID-19?', 'options': {'a': 'Wearing masks', 'b': 'Sharing personal items', 'c': 'Eating out frequently', 'd': 'Ignoring health guidelines'}, 'correct': 'a'}}\n"
     ]
    }
   ],
   "source": [
    "# Extract the JSON part from the response\n",
    "try:\n",
    "    start = response['review'].find(\"```json\") + len(\"```json\")\n",
    "    end = response['review'].find(\"```\", start)\n",
    "    json_str = response['review'][start:end].strip()\n",
    "\n",
    "    # Print the extracted JSON string\n",
    "    print(\"Extracted JSON string:\", json_str)\n",
    "\n",
    "    # Parse the JSON string\n",
    "    quiz = json.loads(json_str)\n",
    "    print(\"Parsed JSON:\", quiz)\n",
    "\n",
    "\n",
    "\n",
    "except Exception as e:\n",
    "    print(\"Error:\", e)\n",
    "    print(\"Traceback:\")\n",
    "    traceback.print_exc()\n",
    "    print(\"Response content:\")\n",
    "    print(response)"
   ]
  },
  {
   "cell_type": "code",
   "execution_count": 64,
   "metadata": {},
   "outputs": [
    {
     "data": {
      "text/plain": [
       "[{'MCQ': 'What is COVID-19?',\n",
       "  'Choices': 'a: A type of food | b: A viral infection | c: A computer program | d: A book',\n",
       "  'Correct': 'b'},\n",
       " {'MCQ': 'Which of the following is a common symptom of COVID-19?',\n",
       "  'Choices': 'a: Headache | b: Cough | c: Blurry vision | d: Toothache',\n",
       "  'Correct': 'b'},\n",
       " {'MCQ': 'How can you protect yourself from COVID-19?',\n",
       "  'Choices': 'a: Washing hands frequently | b: Eating more sugar | c: Avoiding exercise | d: Sleeping less',\n",
       "  'Correct': 'a'},\n",
       " {'MCQ': 'What should you do if you feel unwell with COVID-19 symptoms?',\n",
       "  'Choices': 'a: Ignore it and continue as normal | b: Take medicine without consulting a doctor | c: Stay at home and call a healthcare provider | d: Go to a crowded place',\n",
       "  'Correct': 'c'},\n",
       " {'MCQ': 'What is a key measure to prevent the spread of COVID-19?',\n",
       "  'Choices': 'a: Wearing masks | b: Sharing personal items | c: Eating out frequently | d: Ignoring health guidelines',\n",
       "  'Correct': 'a'}]"
      ]
     },
     "execution_count": 64,
     "metadata": {},
     "output_type": "execute_result"
    }
   ],
   "source": [
    "quiz_table_data = []\n",
    "for key, value in quiz.items():\n",
    "    mcq = value[\"mcq\"]\n",
    "    options = \" | \".join(\n",
    "        [\n",
    "            f\"{option}: {option_value}\"\n",
    "            for option, option_value in value[\"options\"].items()\n",
    "        ]\n",
    "    )\n",
    "    correct = value[\"correct\"]\n",
    "    quiz_table_data.append({\"MCQ\": mcq, \"Choices\": options, \"Correct\": correct})\n",
    "\n",
    "quiz_table_data"
   ]
  },
  {
   "cell_type": "code",
   "execution_count": 65,
   "metadata": {},
   "outputs": [
    {
     "name": "stdout",
     "output_type": "stream",
     "text": [
      "                                                 MCQ  \\\n",
      "0                                  What is COVID-19?   \n",
      "1  Which of the following is a common symptom of ...   \n",
      "2        How can you protect yourself from COVID-19?   \n",
      "3  What should you do if you feel unwell with COV...   \n",
      "4  What is a key measure to prevent the spread of...   \n",
      "\n",
      "                                             Choices Correct  \n",
      "0  a: A type of food | b: A viral infection | c: ...       b  \n",
      "1  a: Headache | b: Cough | c: Blurry vision | d:...       b  \n",
      "2  a: Washing hands frequently | b: Eating more s...       a  \n",
      "3  a: Ignore it and continue as normal | b: Take ...       c  \n",
      "4  a: Wearing masks | b: Sharing personal items |...       a  \n"
     ]
    }
   ],
   "source": [
    "# Convert to DataFrame for easy viewing\n",
    "df = pd.DataFrame(quiz_table_data)\n",
    "print(df)"
   ]
  },
  {
   "cell_type": "code",
   "execution_count": null,
   "metadata": {},
   "outputs": [],
   "source": [
    "quiz=pd.DataFrame(quiz_table_data)\n"
   ]
  },
  {
   "cell_type": "code",
   "execution_count": null,
   "metadata": {},
   "outputs": [
    {
     "data": {
      "text/html": [
       "<div>\n",
       "<style scoped>\n",
       "    .dataframe tbody tr th:only-of-type {\n",
       "        vertical-align: middle;\n",
       "    }\n",
       "\n",
       "    .dataframe tbody tr th {\n",
       "        vertical-align: top;\n",
       "    }\n",
       "\n",
       "    .dataframe thead th {\n",
       "        text-align: right;\n",
       "    }\n",
       "</style>\n",
       "<table border=\"1\" class=\"dataframe\">\n",
       "  <thead>\n",
       "    <tr style=\"text-align: right;\">\n",
       "      <th></th>\n",
       "    </tr>\n",
       "  </thead>\n",
       "  <tbody>\n",
       "  </tbody>\n",
       "</table>\n",
       "</div>"
      ],
      "text/plain": [
       "Empty DataFrame\n",
       "Columns: []\n",
       "Index: []"
      ]
     },
     "execution_count": 79,
     "metadata": {},
     "output_type": "execute_result"
    }
   ],
   "source": [
    "quiz"
   ]
  },
  {
   "cell_type": "code",
   "execution_count": null,
   "metadata": {},
   "outputs": [],
   "source": [
    "quiz.to_csv(\"Covid19.csv\",index=False)"
   ]
  },
  {
   "cell_type": "code",
   "execution_count": null,
   "metadata": {},
   "outputs": [],
   "source": []
  },
  {
   "cell_type": "code",
   "execution_count": null,
   "metadata": {},
   "outputs": [],
   "source": []
  },
  {
   "cell_type": "code",
   "execution_count": null,
   "metadata": {},
   "outputs": [],
   "source": []
  },
  {
   "cell_type": "code",
   "execution_count": null,
   "metadata": {},
   "outputs": [],
   "source": []
  },
  {
   "cell_type": "code",
   "execution_count": null,
   "metadata": {},
   "outputs": [],
   "source": []
  },
  {
   "cell_type": "code",
   "execution_count": null,
   "metadata": {},
   "outputs": [],
   "source": []
  },
  {
   "cell_type": "code",
   "execution_count": null,
   "metadata": {},
   "outputs": [],
   "source": []
  },
  {
   "cell_type": "code",
   "execution_count": null,
   "metadata": {},
   "outputs": [],
   "source": []
  },
  {
   "cell_type": "code",
   "execution_count": null,
   "metadata": {},
   "outputs": [],
   "source": []
  },
  {
   "cell_type": "code",
   "execution_count": null,
   "metadata": {},
   "outputs": [],
   "source": []
  },
  {
   "cell_type": "code",
   "execution_count": null,
   "metadata": {},
   "outputs": [],
   "source": []
  },
  {
   "cell_type": "code",
   "execution_count": null,
   "metadata": {},
   "outputs": [],
   "source": []
  },
  {
   "cell_type": "code",
   "execution_count": null,
   "metadata": {},
   "outputs": [],
   "source": []
  },
  {
   "cell_type": "code",
   "execution_count": null,
   "metadata": {},
   "outputs": [],
   "source": []
  },
  {
   "cell_type": "code",
   "execution_count": null,
   "metadata": {},
   "outputs": [],
   "source": []
  },
  {
   "cell_type": "code",
   "execution_count": null,
   "metadata": {},
   "outputs": [],
   "source": []
  }
 ],
 "metadata": {
  "kernelspec": {
   "display_name": "env",
   "language": "python",
   "name": "python3"
  },
  "language_info": {
   "codemirror_mode": {
    "name": "ipython",
    "version": 3
   },
   "file_extension": ".py",
   "mimetype": "text/x-python",
   "name": "python",
   "nbconvert_exporter": "python",
   "pygments_lexer": "ipython3",
   "version": "3.11.7"
  }
 },
 "nbformat": 4,
 "nbformat_minor": 2
}

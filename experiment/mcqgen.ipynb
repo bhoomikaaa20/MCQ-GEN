{
 "cells": [
  {
   "cell_type": "code",
   "execution_count": 51,
   "metadata": {},
   "outputs": [],
   "source": [
    "import os\n",
    "import json\n",
    "import pandas as pd\n",
    "import traceback"
   ]
  },
  {
   "cell_type": "code",
   "execution_count": 52,
   "metadata": {},
   "outputs": [
    {
     "data": {
      "text/plain": [
       "True"
      ]
     },
     "execution_count": 52,
     "metadata": {},
     "output_type": "execute_result"
    }
   ],
   "source": [
    "from dotenv import load_dotenv\n",
    "load_dotenv()"
   ]
  },
  {
   "cell_type": "code",
   "execution_count": 53,
   "metadata": {},
   "outputs": [],
   "source": [
    "key=load_dotenv('OPENAI_API_KEY')"
   ]
  },
  {
   "cell_type": "code",
   "execution_count": 54,
   "metadata": {},
   "outputs": [],
   "source": [
    "from langchain.chat_models import ChatOpenAI\n",
    "client=ChatOpenAI(openai_api_key=key,model_name='gpt-4o',temperature=0.9)"
   ]
  },
  {
   "cell_type": "code",
   "execution_count": 55,
   "metadata": {},
   "outputs": [],
   "source": [
    "from langchain.llms import OpenAI\n",
    "from langchain.prompts import PromptTemplate\n",
    "from langchain.chains import LLMChain,SequentialChain\n",
    "from langchain.callbacks import get_openai_callback\n",
    "import PyPDF2"
   ]
  },
  {
   "cell_type": "code",
   "execution_count": 56,
   "metadata": {},
   "outputs": [],
   "source": [
    "RESPONSE_JSON = {\n",
    "    \"1\": {\n",
    "        \"mcq\": \"multiple choice question\",\n",
    "        \"options\": {\n",
    "            \"a\": \"choice here\",\n",
    "            \"b\": \"choice here\",\n",
    "            \"c\": \"choice here\",\n",
    "            \"d\": \"choice here\",\n",
    "        },\n",
    "        \"correct\": \"correct answer\",\n",
    "    },\n",
    "    \"2\": {\n",
    "        \"mcq\": \"multiple choice question\",\n",
    "        \"options\": {\n",
    "            \"a\": \"choice here\",\n",
    "            \"b\": \"choice here\",\n",
    "            \"c\": \"choice here\",\n",
    "            \"d\": \"choice here\",\n",
    "        },\n",
    "        \"correct\": \"correct answer\",\n",
    "    },\n",
    "    \"3\": {\n",
    "        \"mcq\": \"multiple choice question\",\n",
    "        \"options\": {\n",
    "            \"a\": \"choice here\",\n",
    "            \"b\": \"choice here\",\n",
    "            \"c\": \"choice here\",\n",
    "            \"d\": \"choice here\",\n",
    "        },\n",
    "        \"correct\": \"correct answer\",\n",
    "    },\n",
    "}"
   ]
  },
  {
   "cell_type": "code",
   "execution_count": 57,
   "metadata": {},
   "outputs": [],
   "source": [
    "TEMPLATE1=\"\"\"\n",
    "Text:{text}\n",
    "You are an expert MCQ maker. Given the above text, it is your job to \\\n",
    "create a quiz  of {number} multiple choice questions for {subject} students in {tone} tone. \n",
    "Make sure the questions are not repeated and check all the questions to be conforming the text as well.\n",
    "Make sure to format your response like  RESPONSE_JSON below  and use it as a guide. \\\n",
    "Ensure to make {number} MCQs\n",
    "### RESPONSE_JSON\n",
    "{response_json}\n",
    "\n",
    "\"\"\""
   ]
  },
  {
   "cell_type": "code",
   "execution_count": 58,
   "metadata": {},
   "outputs": [],
   "source": [
    "quiz_generation_prompt=PromptTemplate(\n",
    "    input_variables=['text','number','subject','tone','response_json'],\n",
    "    template=TEMPLATE1\n",
    ")"
   ]
  },
  {
   "cell_type": "code",
   "execution_count": 59,
   "metadata": {},
   "outputs": [],
   "source": [
    "chain1=LLMChain(llm=client,prompt=quiz_generation_prompt,output_key=\"quiz\",verbose=True)"
   ]
  },
  {
   "cell_type": "code",
   "execution_count": 60,
   "metadata": {},
   "outputs": [],
   "source": [
    "TEMPLATE2=\"\"\"\n",
    "You are an expert english grammarian and writer. Given a Multiple Choice Quiz for {subject} students.\\\n",
    "You need to evaluate the complexity of the question and give a complete analysis of the quiz. Only use at max 50 words for complexity analysis. \n",
    "if the quiz is not at per with the cognitive and analytical abilities of the students,\\\n",
    "update the quiz questions which needs to be changed and change the tone such that it perfectly fits the student abilities\n",
    "Quiz_MCQs:\n",
    "{quiz}\n",
    "\n",
    "Check from an expert English Writer of the above quiz:\n",
    "\"\"\""
   ]
  },
  {
   "cell_type": "code",
   "execution_count": 61,
   "metadata": {},
   "outputs": [],
   "source": [
    "quiz_evaluation_prompt=PromptTemplate(\n",
    "    input_variables=['quiz','subject'],\n",
    "    template=TEMPLATE2\n",
    ")"
   ]
  },
  {
   "cell_type": "code",
   "execution_count": 62,
   "metadata": {},
   "outputs": [],
   "source": [
    "chain2=LLMChain(llm=client,prompt=quiz_evaluation_prompt,output_key='review',verbose=True)"
   ]
  },
  {
   "cell_type": "code",
   "execution_count": 63,
   "metadata": {},
   "outputs": [],
   "source": [
    "FinalChain=SequentialChain(chains=[chain1,chain2],input_variables=['text','number','subject','tone','response_json'],output_variables=['review'],verbose=True)"
   ]
  },
  {
   "cell_type": "code",
   "execution_count": 64,
   "metadata": {},
   "outputs": [],
   "source": [
    "filepath=r'E:\\GENAI\\MCQ-GEN\\paragraph.txt'"
   ]
  },
  {
   "cell_type": "code",
   "execution_count": 65,
   "metadata": {},
   "outputs": [
    {
     "data": {
      "text/plain": [
       "'E:\\\\GENAI\\\\MCQ-GEN\\\\paragraph.txt'"
      ]
     },
     "execution_count": 65,
     "metadata": {},
     "output_type": "execute_result"
    }
   ],
   "source": [
    "filepath"
   ]
  },
  {
   "cell_type": "code",
   "execution_count": 66,
   "metadata": {},
   "outputs": [],
   "source": [
    "with open(filepath,'r') as file:\n",
    "    data=file.read()"
   ]
  },
  {
   "cell_type": "code",
   "execution_count": 67,
   "metadata": {},
   "outputs": [
    {
     "data": {
      "text/plain": [
       "\"Coronavirus disease 2019 (COVID-19) is a contagious disease caused by the coronavirus SARS-CoV-2. The first known case was identified in Wuhan, China, in December 2019.[7] Most scientists believe the SARS-CoV-2 virus entered into human populations through natural zoonosis, similar to the SARS-CoV-1 and MERS-CoV outbreaks, and consistent with other pandemics in human history.[8][9] Social and environmental factors including climate change, natural ecosystem destruction and wildlife trade increased the likelihood of such zoonotic spillover.[10][11][12][13] The disease quickly spread worldwide, resulting in the COVID-19 pandemic.\\n\\nThe symptoms of COVIDâ€‘19 are variable but often include fever,[14] fatigue, cough, breathing difficulties, loss of smell, and loss of taste.[15][16][17] Symptoms may begin one to fourteen days after exposure to the virus. At least a third of people who are infected do not develop noticeable symptoms.[18][19] Of those who develop symptoms noticeable enough to be classified as patients, most (81%) develop mild to moderate symptoms (up to mild pneumonia), while 14% develop severe symptoms (dyspnea, hypoxia, or more than 50% lung involvement on imaging), and 5% develop critical symptoms (respiratory failure, shock, or multiorgan dysfunction).[20] Older people are at a higher risk of developing severe symptoms. Some complications result in death. Some people continue to experience a range of effects (long COVID) for months or years after infection, and damage to organs has been observed.[21] Multi-year studies are underway to further investigate the long-term effects of the disease.[22]\\n\\nCOVIDâ€‘19 transmission occurs when infectious particles are breathed in or come into contact with the eyes, nose, or mouth. The risk is highest when people are in close proximity, but small airborne particles containing the virus can remain suspended in the air and travel over longer distances, particularly indoors. Transmission can also occur when people touch their eyes, nose or mouth after touching surfaces or objects that have been contaminated by the virus. People remain contagious for up to 20 days and can spread the virus even if they do not develop symptoms.[23]\\n\\nTesting methods for COVID-19 to detect the virus's nucleic acid include real-time reverse transcription polymerase chain reaction (RTâ€‘PCR),[24][25] transcription-mediated amplification,[24][25][26] and reverse transcription loop-mediated isothermal amplification (RTâ€‘LAMP)[24][25] from a nasopharyngeal swab.[27]\\n\\nSeveral COVID-19 vaccines have been approved and distributed in various countries, many of which have initiated mass vaccination campaigns. Other preventive measures include physical or social distancing, quarantining, ventilation of indoor spaces, use of face masks or coverings in public, covering coughs and sneezes, hand washing, and keeping unwashed hands away from the face. While drugs have been developed to inhibit the virus, the primary treatment is still symptomatic, managing the disease through supportive care, isolation, and experimental measures.\""
      ]
     },
     "execution_count": 67,
     "metadata": {},
     "output_type": "execute_result"
    }
   ],
   "source": [
    "data"
   ]
  },
  {
   "cell_type": "code",
   "execution_count": 68,
   "metadata": {},
   "outputs": [
    {
     "data": {
      "text/plain": [
       "'{\"1\": {\"mcq\": \"multiple choice question\", \"options\": {\"a\": \"choice here\", \"b\": \"choice here\", \"c\": \"choice here\", \"d\": \"choice here\"}, \"correct\": \"correct answer\"}, \"2\": {\"mcq\": \"multiple choice question\", \"options\": {\"a\": \"choice here\", \"b\": \"choice here\", \"c\": \"choice here\", \"d\": \"choice here\"}, \"correct\": \"correct answer\"}, \"3\": {\"mcq\": \"multiple choice question\", \"options\": {\"a\": \"choice here\", \"b\": \"choice here\", \"c\": \"choice here\", \"d\": \"choice here\"}, \"correct\": \"correct answer\"}}'"
      ]
     },
     "execution_count": 68,
     "metadata": {},
     "output_type": "execute_result"
    }
   ],
   "source": [
    "json.dumps(RESPONSE_JSON)"
   ]
  },
  {
   "cell_type": "code",
   "execution_count": 69,
   "metadata": {},
   "outputs": [],
   "source": [
    "NUMBER=5 \n",
    "SUBJECT=\"covid\"\n",
    "TONE=\"simple\""
   ]
  },
  {
   "cell_type": "code",
   "execution_count": 70,
   "metadata": {},
   "outputs": [
    {
     "name": "stdout",
     "output_type": "stream",
     "text": [
      "\n",
      "\n",
      "\u001b[1m> Entering new SequentialChain chain...\u001b[0m\n",
      "\n",
      "\n",
      "\u001b[1m> Entering new LLMChain chain...\u001b[0m\n",
      "Prompt after formatting:\n",
      "\u001b[32;1m\u001b[1;3m\n",
      "Text:Coronavirus disease 2019 (COVID-19) is a contagious disease caused by the coronavirus SARS-CoV-2. The first known case was identified in Wuhan, China, in December 2019.[7] Most scientists believe the SARS-CoV-2 virus entered into human populations through natural zoonosis, similar to the SARS-CoV-1 and MERS-CoV outbreaks, and consistent with other pandemics in human history.[8][9] Social and environmental factors including climate change, natural ecosystem destruction and wildlife trade increased the likelihood of such zoonotic spillover.[10][11][12][13] The disease quickly spread worldwide, resulting in the COVID-19 pandemic.\n",
      "\n",
      "The symptoms of COVIDâ€‘19 are variable but often include fever,[14] fatigue, cough, breathing difficulties, loss of smell, and loss of taste.[15][16][17] Symptoms may begin one to fourteen days after exposure to the virus. At least a third of people who are infected do not develop noticeable symptoms.[18][19] Of those who develop symptoms noticeable enough to be classified as patients, most (81%) develop mild to moderate symptoms (up to mild pneumonia), while 14% develop severe symptoms (dyspnea, hypoxia, or more than 50% lung involvement on imaging), and 5% develop critical symptoms (respiratory failure, shock, or multiorgan dysfunction).[20] Older people are at a higher risk of developing severe symptoms. Some complications result in death. Some people continue to experience a range of effects (long COVID) for months or years after infection, and damage to organs has been observed.[21] Multi-year studies are underway to further investigate the long-term effects of the disease.[22]\n",
      "\n",
      "COVIDâ€‘19 transmission occurs when infectious particles are breathed in or come into contact with the eyes, nose, or mouth. The risk is highest when people are in close proximity, but small airborne particles containing the virus can remain suspended in the air and travel over longer distances, particularly indoors. Transmission can also occur when people touch their eyes, nose or mouth after touching surfaces or objects that have been contaminated by the virus. People remain contagious for up to 20 days and can spread the virus even if they do not develop symptoms.[23]\n",
      "\n",
      "Testing methods for COVID-19 to detect the virus's nucleic acid include real-time reverse transcription polymerase chain reaction (RTâ€‘PCR),[24][25] transcription-mediated amplification,[24][25][26] and reverse transcription loop-mediated isothermal amplification (RTâ€‘LAMP)[24][25] from a nasopharyngeal swab.[27]\n",
      "\n",
      "Several COVID-19 vaccines have been approved and distributed in various countries, many of which have initiated mass vaccination campaigns. Other preventive measures include physical or social distancing, quarantining, ventilation of indoor spaces, use of face masks or coverings in public, covering coughs and sneezes, hand washing, and keeping unwashed hands away from the face. While drugs have been developed to inhibit the virus, the primary treatment is still symptomatic, managing the disease through supportive care, isolation, and experimental measures.\n",
      "You are an expert MCQ maker. Given the above text, it is your job to create a quiz  of 5 multiple choice questions for covid students in simple tone. \n",
      "Make sure the questions are not repeated and check all the questions to be conforming the text as well.\n",
      "Make sure to format your response like  RESPONSE_JSON below  and use it as a guide. Ensure to make 5 MCQs\n",
      "### RESPONSE_JSON\n",
      "{\"1\": {\"mcq\": \"multiple choice question\", \"options\": {\"a\": \"choice here\", \"b\": \"choice here\", \"c\": \"choice here\", \"d\": \"choice here\"}, \"correct\": \"correct answer\"}, \"2\": {\"mcq\": \"multiple choice question\", \"options\": {\"a\": \"choice here\", \"b\": \"choice here\", \"c\": \"choice here\", \"d\": \"choice here\"}, \"correct\": \"correct answer\"}, \"3\": {\"mcq\": \"multiple choice question\", \"options\": {\"a\": \"choice here\", \"b\": \"choice here\", \"c\": \"choice here\", \"d\": \"choice here\"}, \"correct\": \"correct answer\"}}\n",
      "\n",
      "\u001b[0m\n",
      "\n",
      "\u001b[1m> Finished chain.\u001b[0m\n",
      "\n",
      "\n",
      "\u001b[1m> Entering new LLMChain chain...\u001b[0m\n",
      "Prompt after formatting:\n",
      "\u001b[32;1m\u001b[1;3m\n",
      "You are an expert english grammarian and writer. Given a Multiple Choice Quiz for covid students.You need to evaluate the complexity of the question and give a complete analysis of the quiz. Only use at max 50 words for complexity analysis. \n",
      "if the quiz is not at per with the cognitive and analytical abilities of the students,update the quiz questions which needs to be changed and change the tone such that it perfectly fits the student abilities\n",
      "Quiz_MCQs:\n",
      "```json\n",
      "{\n",
      "  \"1\": {\n",
      "    \"mcq\": \"What is the cause of COVID-19?\",\n",
      "    \"options\": {\n",
      "      \"a\": \"Influenza virus\",\n",
      "      \"b\": \"SARS-CoV-2\",\n",
      "      \"c\": \"Bacteria\",\n",
      "      \"d\": \"MERS-CoV\"\n",
      "    },\n",
      "    \"correct\": \"b\"\n",
      "  },\n",
      "  \"2\": {\n",
      "    \"mcq\": \"Where was the first known case of COVID-19 identified?\",\n",
      "    \"options\": {\n",
      "      \"a\": \"New York, USA\",\n",
      "      \"b\": \"Tokyo, Japan\",\n",
      "      \"c\": \"Wuhan, China\",\n",
      "      \"d\": \"Paris, France\"\n",
      "    },\n",
      "    \"correct\": \"c\"\n",
      "  },\n",
      "  \"3\": {\n",
      "    \"mcq\": \"Which symptom is NOT commonly associated with COVID-19?\",\n",
      "    \"options\": {\n",
      "      \"a\": \"Fever\",\n",
      "      \"b\": \"Fatigue\",\n",
      "      \"c\": \"Loss of smell\",\n",
      "      \"d\": \"Hair loss\"\n",
      "    },\n",
      "    \"correct\": \"d\"\n",
      "  },\n",
      "  \"4\": {\n",
      "    \"mcq\": \"How long can people remain contagious after contracting COVID-19?\",\n",
      "    \"options\": {\n",
      "      \"a\": \"Up to 5 days\",\n",
      "      \"b\": \"Up to 10 days\",\n",
      "      \"c\": \"Up to 15 days\",\n",
      "      \"d\": \"Up to 20 days\"\n",
      "    },\n",
      "    \"correct\": \"d\"\n",
      "  },\n",
      "  \"5\": {\n",
      "    \"mcq\": \"Which method is NOT used for COVID-19 testing?\",\n",
      "    \"options\": {\n",
      "      \"a\": \"Real-time reverse transcription polymerase chain reaction (RT-PCR)\",\n",
      "      \"b\": \"Transcription-mediated amplification\",\n",
      "      \"c\": \"Antibody injection\",\n",
      "      \"d\": \"Reverse transcription loop-mediated isothermal amplification (RT-LAMP)\"\n",
      "    },\n",
      "    \"correct\": \"c\"\n",
      "  }\n",
      "}\n",
      "```\n",
      "\n",
      "Check from an expert English Writer of the above quiz:\n",
      "\u001b[0m\n",
      "\n",
      "\u001b[1m> Finished chain.\u001b[0m\n",
      "\n",
      "\u001b[1m> Finished chain.\u001b[0m\n"
     ]
    }
   ],
   "source": [
    "#How to setup Token Usage Tracking in LangChain\n",
    "with get_openai_callback() as cb:\n",
    "    response=FinalChain(\n",
    "        {\n",
    "            \"text\": data,\n",
    "            \"number\": NUMBER,\n",
    "            \"subject\":SUBJECT,\n",
    "            \"tone\": TONE,\n",
    "            \"response_json\": json.dumps(RESPONSE_JSON)\n",
    "        }\n",
    "        )"
   ]
  },
  {
   "cell_type": "code",
   "execution_count": 71,
   "metadata": {},
   "outputs": [
    {
     "name": "stdout",
     "output_type": "stream",
     "text": [
      "TotalCost:0.0178\n",
      "TotalToken:2120\n",
      "InputTokens1400\n",
      "OutputTokens720\n"
     ]
    }
   ],
   "source": [
    "print(f\"TotalCost:{cb.total_cost}\")\n",
    "print(f\"TotalToken:{cb.total_tokens}\")\n",
    "print(f\"InputTokens{cb.prompt_tokens}\")\n",
    "print(f\"OutputTokens{cb.completion_tokens}\")"
   ]
  },
  {
   "cell_type": "code",
   "execution_count": 72,
   "metadata": {},
   "outputs": [
    {
     "data": {
      "text/plain": [
       "{'text': \"Coronavirus disease 2019 (COVID-19) is a contagious disease caused by the coronavirus SARS-CoV-2. The first known case was identified in Wuhan, China, in December 2019.[7] Most scientists believe the SARS-CoV-2 virus entered into human populations through natural zoonosis, similar to the SARS-CoV-1 and MERS-CoV outbreaks, and consistent with other pandemics in human history.[8][9] Social and environmental factors including climate change, natural ecosystem destruction and wildlife trade increased the likelihood of such zoonotic spillover.[10][11][12][13] The disease quickly spread worldwide, resulting in the COVID-19 pandemic.\\n\\nThe symptoms of COVIDâ€‘19 are variable but often include fever,[14] fatigue, cough, breathing difficulties, loss of smell, and loss of taste.[15][16][17] Symptoms may begin one to fourteen days after exposure to the virus. At least a third of people who are infected do not develop noticeable symptoms.[18][19] Of those who develop symptoms noticeable enough to be classified as patients, most (81%) develop mild to moderate symptoms (up to mild pneumonia), while 14% develop severe symptoms (dyspnea, hypoxia, or more than 50% lung involvement on imaging), and 5% develop critical symptoms (respiratory failure, shock, or multiorgan dysfunction).[20] Older people are at a higher risk of developing severe symptoms. Some complications result in death. Some people continue to experience a range of effects (long COVID) for months or years after infection, and damage to organs has been observed.[21] Multi-year studies are underway to further investigate the long-term effects of the disease.[22]\\n\\nCOVIDâ€‘19 transmission occurs when infectious particles are breathed in or come into contact with the eyes, nose, or mouth. The risk is highest when people are in close proximity, but small airborne particles containing the virus can remain suspended in the air and travel over longer distances, particularly indoors. Transmission can also occur when people touch their eyes, nose or mouth after touching surfaces or objects that have been contaminated by the virus. People remain contagious for up to 20 days and can spread the virus even if they do not develop symptoms.[23]\\n\\nTesting methods for COVID-19 to detect the virus's nucleic acid include real-time reverse transcription polymerase chain reaction (RTâ€‘PCR),[24][25] transcription-mediated amplification,[24][25][26] and reverse transcription loop-mediated isothermal amplification (RTâ€‘LAMP)[24][25] from a nasopharyngeal swab.[27]\\n\\nSeveral COVID-19 vaccines have been approved and distributed in various countries, many of which have initiated mass vaccination campaigns. Other preventive measures include physical or social distancing, quarantining, ventilation of indoor spaces, use of face masks or coverings in public, covering coughs and sneezes, hand washing, and keeping unwashed hands away from the face. While drugs have been developed to inhibit the virus, the primary treatment is still symptomatic, managing the disease through supportive care, isolation, and experimental measures.\",\n",
       " 'number': 5,\n",
       " 'subject': 'covid',\n",
       " 'tone': 'simple',\n",
       " 'response_json': '{\"1\": {\"mcq\": \"multiple choice question\", \"options\": {\"a\": \"choice here\", \"b\": \"choice here\", \"c\": \"choice here\", \"d\": \"choice here\"}, \"correct\": \"correct answer\"}, \"2\": {\"mcq\": \"multiple choice question\", \"options\": {\"a\": \"choice here\", \"b\": \"choice here\", \"c\": \"choice here\", \"d\": \"choice here\"}, \"correct\": \"correct answer\"}, \"3\": {\"mcq\": \"multiple choice question\", \"options\": {\"a\": \"choice here\", \"b\": \"choice here\", \"c\": \"choice here\", \"d\": \"choice here\"}, \"correct\": \"correct answer\"}}',\n",
       " 'review': '### Complexity Analysis\\n\\nThe quiz is reasonably challenging but accessible. The questions vary in complexity, requiring students to recall specific facts, understand general knowledge about COVID-19, and differentiate between related concepts. This balance ensures engagement without overwhelming.\\n\\n### Suggested Updates\\n\\n1. **Current Question 4:**\\n   - **Original:** \"How long can people remain contagious after contracting COVID-19?\"\\n   - **Complexity Issue:** The time frame options may be too specific and complex for some students.\\n   - **Updated:** \"For how many days can people be contagious after getting COVID-19?\"\\n     - **Options:** \\n       - a) Up to 5 days\\n       - b) Up to 10 days\\n       - c) Up to 15 days\\n       - d) Up to 20 days\\n     - **Correct:** d\\n\\n2. **Current Question 5:**\\n   - **Original:** \"Which method is NOT used for COVID-19 testing?\"\\n   - **Complexity Issue:** The terminology might be too technical.\\n   - **Updated:** \"Which of these is NOT a method for testing COVID-19?\"\\n     - **Options:**\\n       - a) RT-PCR (Real-time reverse transcription polymerase chain reaction)\\n       - b) TMA (Transcription-mediated amplification)\\n       - c) Antibody injection\\n       - d) RT-LAMP (Reverse transcription loop-mediated isothermal amplification)\\n     - **Correct:** c\\n\\nBy adjusting the wording and providing clarity, these questions should better fit the cognitive and analytical abilities of the students.'}"
      ]
     },
     "execution_count": 72,
     "metadata": {},
     "output_type": "execute_result"
    }
   ],
   "source": [
    "response"
   ]
  },
  {
   "cell_type": "code",
   "execution_count": 73,
   "metadata": {},
   "outputs": [],
   "source": [
    "res=response.get(\"review\")"
   ]
  },
  {
   "cell_type": "code",
   "execution_count": 74,
   "metadata": {},
   "outputs": [
    {
     "name": "stdout",
     "output_type": "stream",
     "text": [
      "### Complexity Analysis\n",
      "\n",
      "The quiz is reasonably challenging but accessible. The questions vary in complexity, requiring students to recall specific facts, understand general knowledge about COVID-19, and differentiate between related concepts. This balance ensures engagement without overwhelming.\n",
      "\n",
      "### Suggested Updates\n",
      "\n",
      "1. **Current Question 4:**\n",
      "   - **Original:** \"How long can people remain contagious after contracting COVID-19?\"\n",
      "   - **Complexity Issue:** The time frame options may be too specific and complex for some students.\n",
      "   - **Updated:** \"For how many days can people be contagious after getting COVID-19?\"\n",
      "     - **Options:** \n",
      "       - a) Up to 5 days\n",
      "       - b) Up to 10 days\n",
      "       - c) Up to 15 days\n",
      "       - d) Up to 20 days\n",
      "     - **Correct:** d\n",
      "\n",
      "2. **Current Question 5:**\n",
      "   - **Original:** \"Which method is NOT used for COVID-19 testing?\"\n",
      "   - **Complexity Issue:** The terminology might be too technical.\n",
      "   - **Updated:** \"Which of these is NOT a method for testing COVID-19?\"\n",
      "     - **Options:**\n",
      "       - a) RT-PCR (Real-time reverse transcription polymerase chain reaction)\n",
      "       - b) TMA (Transcription-mediated amplification)\n",
      "       - c) Antibody injection\n",
      "       - d) RT-LAMP (Reverse transcription loop-mediated isothermal amplification)\n",
      "     - **Correct:** c\n",
      "\n",
      "By adjusting the wording and providing clarity, these questions should better fit the cognitive and analytical abilities of the students.\n"
     ]
    }
   ],
   "source": [
    "print(res)"
   ]
  },
  {
   "cell_type": "code",
   "execution_count": 75,
   "metadata": {},
   "outputs": [
    {
     "name": "stdout",
     "output_type": "stream",
     "text": [
      "Extracted JSON string: mplexity Analysis\n",
      "\n",
      "The quiz is reasonably challenging but accessible. The questions vary in complexity, requiring students to recall specific facts, understand general knowledge about COVID-19, and differentiate between related concepts. This balance ensures engagement without overwhelming.\n",
      "\n",
      "### Suggested Updates\n",
      "\n",
      "1. **Current Question 4:**\n",
      "   - **Original:** \"How long can people remain contagious after contracting COVID-19?\"\n",
      "   - **Complexity Issue:** The time frame options may be too specific and complex for some students.\n",
      "   - **Updated:** \"For how many days can people be contagious after getting COVID-19?\"\n",
      "     - **Options:** \n",
      "       - a) Up to 5 days\n",
      "       - b) Up to 10 days\n",
      "       - c) Up to 15 days\n",
      "       - d) Up to 20 days\n",
      "     - **Correct:** d\n",
      "\n",
      "2. **Current Question 5:**\n",
      "   - **Original:** \"Which method is NOT used for COVID-19 testing?\"\n",
      "   - **Complexity Issue:** The terminology might be too technical.\n",
      "   - **Updated:** \"Which of these is NOT a method for testing COVID-19?\"\n",
      "     - **Options:**\n",
      "       - a) RT-PCR (Real-time reverse transcription polymerase chain reaction)\n",
      "       - b) TMA (Transcription-mediated amplification)\n",
      "       - c) Antibody injection\n",
      "       - d) RT-LAMP (Reverse transcription loop-mediated isothermal amplification)\n",
      "     - **Correct:** c\n",
      "\n",
      "By adjusting the wording and providing clarity, these questions should better fit the cognitive and analytical abilities of the students\n",
      "JSONDecodeError: Expecting value: line 1 column 1 (char 0)\n",
      "JSON string that caused the error: mplexity Analysis\n",
      "\n",
      "The quiz is reasonably challenging but accessible. The questions vary in complexity, requiring students to recall specific facts, understand general knowledge about COVID-19, and differentiate between related concepts. This balance ensures engagement without overwhelming.\n",
      "\n",
      "### Suggested Updates\n",
      "\n",
      "1. **Current Question 4:**\n",
      "   - **Original:** \"How long can people remain contagious after contracting COVID-19?\"\n",
      "   - **Complexity Issue:** The time frame options may be too specific and complex for some students.\n",
      "   - **Updated:** \"For how many days can people be contagious after getting COVID-19?\"\n",
      "     - **Options:** \n",
      "       - a) Up to 5 days\n",
      "       - b) Up to 10 days\n",
      "       - c) Up to 15 days\n",
      "       - d) Up to 20 days\n",
      "     - **Correct:** d\n",
      "\n",
      "2. **Current Question 5:**\n",
      "   - **Original:** \"Which method is NOT used for COVID-19 testing?\"\n",
      "   - **Complexity Issue:** The terminology might be too technical.\n",
      "   - **Updated:** \"Which of these is NOT a method for testing COVID-19?\"\n",
      "     - **Options:**\n",
      "       - a) RT-PCR (Real-time reverse transcription polymerase chain reaction)\n",
      "       - b) TMA (Transcription-mediated amplification)\n",
      "       - c) Antibody injection\n",
      "       - d) RT-LAMP (Reverse transcription loop-mediated isothermal amplification)\n",
      "     - **Correct:** c\n",
      "\n",
      "By adjusting the wording and providing clarity, these questions should better fit the cognitive and analytical abilities of the students\n"
     ]
    }
   ],
   "source": [
    "\n",
    "# Extract the JSON part from the response\n",
    "start = res.find(\"```json\") + len(\"```json\")\n",
    "end = res.find(\"```\", start)\n",
    "json_str = res[start:end].strip()\n",
    "\n",
    "# Print the extracted JSON string\n",
    "print(\"Extracted JSON string:\", json_str)\n",
    "\n",
    "# Parse the JSON string\n",
    "try:\n",
    "    quiz = json.loads(json_str)\n",
    "    print(\"Parsed JSON:\", quiz)\n",
    "except json.JSONDecodeError as e:\n",
    "    print(\"JSONDecodeError:\", e)\n",
    "    print(\"JSON string that caused the error:\", json_str)\n"
   ]
  },
  {
   "cell_type": "code",
   "execution_count": 76,
   "metadata": {},
   "outputs": [],
   "source": [
    "quiz_table_data = []\n",
    "for key, value in quiz.items():\n",
    "    mcq = value[\"mcq\"]\n",
    "    options = \" | \".join(\n",
    "        [\n",
    "            f\"{option}: {option_value}\"\n",
    "            for option, option_value in value[\"options\"].items()\n",
    "            ]\n",
    "        )\n",
    "    correct = value[\"correct\"]\n",
    "    quiz_table_data.append({\"MCQ\": mcq, \"Choices\": options, \"Correct\": correct})"
   ]
  },
  {
   "cell_type": "code",
   "execution_count": 77,
   "metadata": {},
   "outputs": [
    {
     "data": {
      "text/plain": [
       "[]"
      ]
     },
     "execution_count": 77,
     "metadata": {},
     "output_type": "execute_result"
    }
   ],
   "source": [
    "quiz_table_data"
   ]
  },
  {
   "cell_type": "code",
   "execution_count": 78,
   "metadata": {},
   "outputs": [],
   "source": [
    "quiz=pd.DataFrame(quiz_table_data)\n"
   ]
  },
  {
   "cell_type": "code",
   "execution_count": 79,
   "metadata": {},
   "outputs": [
    {
     "data": {
      "text/html": [
       "<div>\n",
       "<style scoped>\n",
       "    .dataframe tbody tr th:only-of-type {\n",
       "        vertical-align: middle;\n",
       "    }\n",
       "\n",
       "    .dataframe tbody tr th {\n",
       "        vertical-align: top;\n",
       "    }\n",
       "\n",
       "    .dataframe thead th {\n",
       "        text-align: right;\n",
       "    }\n",
       "</style>\n",
       "<table border=\"1\" class=\"dataframe\">\n",
       "  <thead>\n",
       "    <tr style=\"text-align: right;\">\n",
       "      <th></th>\n",
       "    </tr>\n",
       "  </thead>\n",
       "  <tbody>\n",
       "  </tbody>\n",
       "</table>\n",
       "</div>"
      ],
      "text/plain": [
       "Empty DataFrame\n",
       "Columns: []\n",
       "Index: []"
      ]
     },
     "execution_count": 79,
     "metadata": {},
     "output_type": "execute_result"
    }
   ],
   "source": [
    "quiz"
   ]
  },
  {
   "cell_type": "code",
   "execution_count": 80,
   "metadata": {},
   "outputs": [],
   "source": [
    "quiz.to_csv(\"Covid19.csv\",index=False)"
   ]
  },
  {
   "cell_type": "code",
   "execution_count": null,
   "metadata": {},
   "outputs": [],
   "source": []
  },
  {
   "cell_type": "code",
   "execution_count": null,
   "metadata": {},
   "outputs": [],
   "source": []
  },
  {
   "cell_type": "code",
   "execution_count": null,
   "metadata": {},
   "outputs": [],
   "source": []
  },
  {
   "cell_type": "code",
   "execution_count": null,
   "metadata": {},
   "outputs": [],
   "source": []
  },
  {
   "cell_type": "code",
   "execution_count": null,
   "metadata": {},
   "outputs": [],
   "source": []
  },
  {
   "cell_type": "code",
   "execution_count": null,
   "metadata": {},
   "outputs": [],
   "source": []
  },
  {
   "cell_type": "code",
   "execution_count": null,
   "metadata": {},
   "outputs": [],
   "source": []
  },
  {
   "cell_type": "code",
   "execution_count": null,
   "metadata": {},
   "outputs": [],
   "source": []
  },
  {
   "cell_type": "code",
   "execution_count": null,
   "metadata": {},
   "outputs": [],
   "source": []
  },
  {
   "cell_type": "code",
   "execution_count": null,
   "metadata": {},
   "outputs": [],
   "source": []
  },
  {
   "cell_type": "code",
   "execution_count": null,
   "metadata": {},
   "outputs": [],
   "source": []
  },
  {
   "cell_type": "code",
   "execution_count": null,
   "metadata": {},
   "outputs": [],
   "source": []
  },
  {
   "cell_type": "code",
   "execution_count": null,
   "metadata": {},
   "outputs": [],
   "source": []
  },
  {
   "cell_type": "code",
   "execution_count": null,
   "metadata": {},
   "outputs": [],
   "source": []
  },
  {
   "cell_type": "code",
   "execution_count": null,
   "metadata": {},
   "outputs": [],
   "source": []
  },
  {
   "cell_type": "code",
   "execution_count": null,
   "metadata": {},
   "outputs": [],
   "source": []
  }
 ],
 "metadata": {
  "kernelspec": {
   "display_name": "env",
   "language": "python",
   "name": "python3"
  },
  "language_info": {
   "codemirror_mode": {
    "name": "ipython",
    "version": 3
   },
   "file_extension": ".py",
   "mimetype": "text/x-python",
   "name": "python",
   "nbconvert_exporter": "python",
   "pygments_lexer": "ipython3",
   "version": "3.11.7"
  }
 },
 "nbformat": 4,
 "nbformat_minor": 2
}
